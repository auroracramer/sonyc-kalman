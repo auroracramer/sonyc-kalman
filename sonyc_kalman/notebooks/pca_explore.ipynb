{
 "cells": [
  {
   "cell_type": "code",
   "execution_count": 8,
   "metadata": {
    "collapsed": true
   },
   "outputs": [],
   "source": [
    "import numpy as np\n",
    "from numpy import ma\n",
    "import pykalman as pk\n",
    "import os\n",
    "import time\n",
    "import pickle\n",
    "import matplotlib.pyplot as plt\n",
    "from sklearn.decomposition import PCA\n",
    "\n",
    "import sys\n",
    "sys.path.append(\"..\")\n",
    "from data import load_openl3_time_series as load_data\n"
   ]
  },
  {
   "cell_type": "code",
   "execution_count": 5,
   "metadata": {
    "collapsed": true
   },
   "outputs": [],
   "source": [
    "#choosing a sensor with a reasonable, readable amount of data\n",
    "DATA_LOC = '/beegfs/work/sonyc/features/openl3/2017'\n",
    "BEST_SENSOR_LOC = os.path.join(DATA_LOC, 'sonycnode-b827ebefb215.sonyc_features_openl3.h5')"
   ]
  },
  {
   "cell_type": "code",
   "execution_count": 6,
   "metadata": {},
   "outputs": [
    {
     "name": "stderr",
     "output_type": "stream",
     "text": [
      "../data.py:19: H5pyDeprecationWarning: The default file mode will change to 'r' (read-only) in h5py 3.0. To suppress this warning, pass the mode you need to h5py.File(), or set the global default h5.get_config().default_file_mode, or set the environment variable H5PY_DEFAULT_READONLY=1. Available modes are: 'r', 'r+', 'w', 'w-'/'x', 'a'. See the docs for details.\n",
      "  with h5py.File(hdf5_path) as f:\n"
     ]
    }
   ],
   "source": [
    "#loading data for processing\n",
    "data, mask = load_data(BEST_SENSOR_LOC)"
   ]
  },
  {
   "cell_type": "code",
   "execution_count": 16,
   "metadata": {},
   "outputs": [
    {
     "data": {
      "text/plain": [
       "(6735, 512)"
      ]
     },
     "execution_count": 16,
     "metadata": {},
     "output_type": "execute_result"
    }
   ],
   "source": [
    "data.shape"
   ]
  },
  {
   "cell_type": "code",
   "execution_count": 10,
   "metadata": {},
   "outputs": [
    {
     "data": {
      "text/plain": [
       "PCA(copy=True, iterated_power='auto', n_components=5, random_state=None,\n",
       "  svd_solver='auto', tol=0.0, whiten=False)"
      ]
     },
     "execution_count": 10,
     "metadata": {},
     "output_type": "execute_result"
    }
   ],
   "source": [
    "pca_l3 = PCA(n_components=5)\n",
    "pca_l3.fit(data)"
   ]
  },
  {
   "cell_type": "code",
   "execution_count": 11,
   "metadata": {
    "collapsed": true
   },
   "outputs": [],
   "source": [
    "data_pca = pca_l3.transform(data)"
   ]
  },
  {
   "cell_type": "code",
   "execution_count": null,
   "metadata": {},
   "outputs": [
    {
     "name": "stdout",
     "output_type": "stream",
     "text": [
      "Testing 1 PCA Component(s)\n",
      "Testing 2 PCA Component(s)\n",
      "Testing 4 PCA Component(s)\n",
      "Testing 8 PCA Component(s)\n",
      "Testing 16 PCA Component(s)\n",
      "Testing 32 PCA Component(s)\n",
      "Testing 64 PCA Component(s)\n",
      "Testing 128 PCA Component(s)\n",
      "Testing 256 PCA Component(s)\n"
     ]
    }
   ],
   "source": [
    "#time testing\n",
    "times = []\n",
    "n_components = [2**k for k in range(10)]\n",
    "for n in n_components:\n",
    "    print(\"Testing {} PCA Component(s)\".format(n))\n",
    "    tstart = time.time()\n",
    "    pca_fit = PCA(n_components=n)\n",
    "    pca_fit.fit(data)\n",
    "    data_fit = pca_fit.transform(data)\n",
    "    kf = pk.KalmanFilter(n_dim_state=5, n_dim_obs=data_fit.shape[1])\n",
    "    kf.em(data_fit, n_iter=5)\n",
    "    tend = time.time()\n",
    "    times.append(tend-tstart)"
   ]
  },
  {
   "cell_type": "code",
   "execution_count": 24,
   "metadata": {},
   "outputs": [
    {
     "data": {
      "image/png": "[encoded data removed]",
      "text/plain": [
       "<matplotlib.figure.Figure at 0x2b9494ba3048>"
      ]
     },
     "metadata": {},
     "output_type": "display_data"
    }
   ],
   "source": [
    "plt.plot(n_components, times)\n",
    "plt.show()"
   ]
  },
  {
   "cell_type": "code",
   "execution_count": 25,
   "metadata": {},
   "outputs": [
    {
     "name": "stdout",
     "output_type": "stream",
     "text": [
      "Loading data from sonycnode-b827ebefb215.sonyc_features_openl3.h5\n",
      "/home/ci411/sonyc-kalman/sonyc_kalman/data.py:19: H5pyDeprecationWarning: The default file mode will change to 'r' (read-only) in h5py 3.0. To suppress this warning, pass the mode you need to h5py.File(), or set the global default h5.get_config().default_file_mode, or set the environment variable H5PY_DEFAULT_READONLY=1. Available modes are: 'r', 'r+', 'w', 'w-'/'x', 'a'. See the docs for details.\n",
      "  with h5py.File(hdf5_path) as f:\n",
      "Training Kalman Filter: Sensor: sonycnode-b827ebefb215.sonyc_features_openl3.h5,\t N_Iterations: 5,\t Latent Space Dim2\n",
      "Training complete, saving result to .\n"
     ]
    }
   ],
   "source": [
    "#testing the training function w/ pca\n",
    "!python ../train_pykalman.py --output_path . --data_range 100 --model_name \"pca_test\" --n_pca 8"
   ]
  },
  {
   "cell_type": "code",
   "execution_count": 28,
   "metadata": {},
   "outputs": [
    {
     "name": "stdout",
     "output_type": "stream",
     "text": [
      "./pca_test\n"
     ]
    }
   ],
   "source": [
    "print(os.path.join(params.output_path, model_name))"
   ]
  },
  {
   "cell_type": "code",
   "execution_count": 29,
   "metadata": {
    "collapsed": true
   },
   "outputs": [],
   "source": [
    "with open(os.path.join('.','pca_test.pkl'), 'rb') as fd:\n",
    "    pykal_load = pickle.load(fd)"
   ]
  },
  {
   "cell_type": "code",
   "execution_count": 30,
   "metadata": {
    "collapsed": true
   },
   "outputs": [],
   "source": [
    "with open(os.path.join('.','pca_test_pca.pkl'), 'rb') as fd:\n",
    "    pca_load = pickle.load(fd)"
   ]
  },
  {
   "cell_type": "code",
   "execution_count": 31,
   "metadata": {},
   "outputs": [
    {
     "data": {
      "text/plain": [
       "<pykalman.standard.KalmanFilter at 0x2b9494d04278>"
      ]
     },
     "execution_count": 31,
     "metadata": {},
     "output_type": "execute_result"
    }
   ],
   "source": [
    "pykal_load"
   ]
  },
  {
   "cell_type": "code",
   "execution_count": 32,
   "metadata": {},
   "outputs": [
    {
     "data": {
      "text/plain": [
       "PCA(copy=True, iterated_power='auto', n_components=8, random_state=None,\n",
       "  svd_solver='auto', tol=0.0, whiten=False)"
      ]
     },
     "execution_count": 32,
     "metadata": {},
     "output_type": "execute_result"
    }
   ],
   "source": [
    "pca_load"
   ]
  }
 ],
 "metadata": {
  "kernelspec": {
   "display_name": "Python 3",
   "language": "python",
   "name": "python3"
  },
  "language_info": {
   "codemirror_mode": {
    "name": "ipython",
    "version": 3
   },
   "file_extension": ".py",
   "mimetype": "text/x-python",
   "name": "python",
   "nbconvert_exporter": "python",
   "pygments_lexer": "ipython3",
   "version": "3.6.2"
  }
 },
 "nbformat": 4,
 "nbformat_minor": 2
}
