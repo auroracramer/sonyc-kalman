{
 "cells": [
  {
   "cell_type": "code",
   "execution_count": 4,
   "metadata": {
    "collapsed": true
   },
   "outputs": [],
   "source": [
    "import numpy as np\n",
    "from numpy import ma\n",
    "import pykalman as pk\n",
    "import os\n",
    "import time\n",
    "import pickle\n",
    "import matplotlib.pyplot as plt\n",
    "\n",
    "import sys\n",
    "sys.path.append(\"..\")\n",
    "from data import load_openl3_time_series as load_data"
   ]
  },
  {
   "cell_type": "code",
   "execution_count": 2,
   "metadata": {
    "collapsed": true
   },
   "outputs": [],
   "source": [
    "#choosing a sensor with a reasonable, readable amount of data\n",
    "DATA_LOC = '/beegfs/work/sonyc/features/openl3/2017'\n",
    "BEST_SENSOR_LOC = os.path.join(DATA_LOC, 'sonycnode-b827ebefb215.sonyc_features_openl3.h5')"
   ]
  },
  {
   "cell_type": "code",
   "execution_count": 4,
   "metadata": {},
   "outputs": [
    {
     "name": "stderr",
     "output_type": "stream",
     "text": [
      "/home/ci411/sonyc-kalman/sonyc_kalman/data.py:17: H5pyDeprecationWarning: The default file mode will change to 'r' (read-only) in h5py 3.0. To suppress this warning, pass the mode you need to h5py.File(), or set the global default h5.get_config().default_file_mode, or set the environment variable H5PY_DEFAULT_READONLY=1. Available modes are: 'r', 'r+', 'w', 'w-'/'x', 'a'. See the docs for details.\n",
      "  with h5py.File(hdf5_path) as f:\n"
     ]
    }
   ],
   "source": [
    "#loading data for processing\n",
    "data, mask = load_data(BEST_SENSOR_LOC)"
   ]
  },
  {
   "cell_type": "code",
   "execution_count": 5,
   "metadata": {},
   "outputs": [
    {
     "data": {
      "image/png": "[encoded data removed]",
      "text/plain": [
       "<matplotlib.figure.Figure at 0x2b03a8588320>"
      ]
     },
     "metadata": {},
     "output_type": "display_data"
    }
   ],
   "source": [
    "#checking mask\n",
    "plt.plot(np.arange(len(mask)), mask)\n",
    "plt.show()"
   ]
  },
  {
   "cell_type": "code",
   "execution_count": 34,
   "metadata": {
    "collapsed": true
   },
   "outputs": [],
   "source": [
    "#swapping mask conventions to match numpy.mas conventions\n",
    "mask_flip = (mask==0).astype('int')"
   ]
  },
  {
   "cell_type": "code",
   "execution_count": 41,
   "metadata": {
    "collapsed": true
   },
   "outputs": [],
   "source": [
    "#attempting to holdout a portion of data on a 100 sample subset of the data\n",
    "mini_data = data[:100]\n",
    "mini_holdout = mini_data[45:56]\n",
    "mini_data[45:56] = ma.masked"
   ]
  },
  {
   "cell_type": "code",
   "execution_count": 42,
   "metadata": {
    "collapsed": true
   },
   "outputs": [],
   "source": [
    "#constructing and training data on the subset\n",
    "#(note that pykalman requires assigning the output of .em())\n",
    "kf = pk.KalmanFilter(n_dim_state=2, n_dim_obs=data.shape[1], em_vars='all')\n",
    "kf_trained = kf.em(mini_data, n_iter=5)"
   ]
  },
  {
   "cell_type": "code",
   "execution_count": 44,
   "metadata": {
    "collapsed": true
   },
   "outputs": [],
   "source": [
    "#examining smoothed/filtered latent state results\n",
    "mini_smooth = kf_trained.smooth(mini_data)\n",
    "mini_filter = kf_trained.filter(mini_data)"
   ]
  },
  {
   "cell_type": "code",
   "execution_count": 15,
   "metadata": {},
   "outputs": [
    {
     "name": "stdout",
     "output_type": "stream",
     "text": [
      "Attempting 10 training datapoints\n",
      "Attempting 100 training datapoints\n",
      "Attempting 500 training datapoints\n"
     ]
    }
   ],
   "source": [
    "#time-testing em with data scale\n",
    "n_data = [10, 100, 500, 1000, 3000, 5000]\n",
    "times = []\n",
    "kf_list = []\n",
    "for n in n_data:\n",
    "    print(\"Attempting {} training datapoints\".format(n))\n",
    "    tstart = time.time()\n",
    "    kf = pk.KalmanFilter(n_dim_state=2, n_dim_obs=data.shape[1])\n",
    "    kf.em(data[:n], n_iter=5)\n",
    "    tend = time.time()\n",
    "    times.append(tend-tstart)\n",
    "    kf_list.append(kf)"
   ]
  },
  {
   "cell_type": "code",
   "execution_count": 59,
   "metadata": {},
   "outputs": [
    {
     "data": {
      "image/png": "[encoded data removed]",
      "text/plain": [
       "<matplotlib.figure.Figure at 0x2b03aef11630>"
      ]
     },
     "metadata": {},
     "output_type": "display_data"
    }
   ],
   "source": [
    "#plotting time tests\n",
    "#results is n_data is linear with time\n",
    "plt.plot(n_data, times)\n",
    "plt.show()"
   ]
  },
  {
   "cell_type": "code",
   "execution_count": 70,
   "metadata": {
    "collapsed": true
   },
   "outputs": [],
   "source": [
    "loc = './mask_test.npz'\n",
    "np.savez(loc, mask=mask)"
   ]
  },
  {
   "cell_type": "code",
   "execution_count": 71,
   "metadata": {
    "collapsed": true
   },
   "outputs": [],
   "source": [
    "mask_load = np.load(loc)"
   ]
  },
  {
   "cell_type": "code",
   "execution_count": 2,
   "metadata": {},
   "outputs": [
    {
     "name": "stdout",
     "output_type": "stream",
     "text": [
      "Loading data from sonycnode-b827ebefb215.sonyc_features_openl3.h5\n",
      "/home/ci411/sonyc-kalman/sonyc_kalman/data.py:19: H5pyDeprecationWarning: The default file mode will change to 'r' (read-only) in h5py 3.0. To suppress this warning, pass the mode you need to h5py.File(), or set the global default h5.get_config().default_file_mode, or set the environment variable H5PY_DEFAULT_READONLY=1. Available modes are: 'r', 'r+', 'w', 'w-'/'x', 'a'. See the docs for details.\n",
      "  with h5py.File(hdf5_path) as f:\n",
      "Training Kalman Filter: Sensor: sonycnode-b827ebefb215.sonyc_features_openl3.h5,\t N_Iterations: 5,\t Latent Space Dim2\n",
      "Training complete, saving result to .\n"
     ]
    }
   ],
   "source": [
    "#testing the training function\n",
    "!python ../train_pykalman.py --output_path . --data_range 100 --model_name \"train_test\""
   ]
  },
  {
   "cell_type": "code",
   "execution_count": 9,
   "metadata": {},
   "outputs": [],
   "source": [
    "with open(os.path.join('.','train_test.pkl'), 'rb') as fd:\n",
    "    pykal_load = pickle.load(fd)"
   ]
  },
  {
   "cell_type": "code",
   "execution_count": 10,
   "metadata": {},
   "outputs": [
    {
     "data": {
      "text/plain": [
       "<pykalman.standard.KalmanFilter at 0x2b04590cceb8>"
      ]
     },
     "execution_count": 10,
     "metadata": {},
     "output_type": "execute_result"
    }
   ],
   "source": [
    "pykal_load"
   ]
  }
 ],
 "metadata": {
  "kernelspec": {
   "display_name": "Python 3",
   "language": "python",
   "name": "python3"
  },
  "language_info": {
   "codemirror_mode": {
    "name": "ipython",
    "version": 3
   },
   "file_extension": ".py",
   "mimetype": "text/x-python",
   "name": "python",
   "nbconvert_exporter": "python",
   "pygments_lexer": "ipython3",
   "version": "3.6.2"
  }
 },
 "nbformat": 4,
 "nbformat_minor": 2
}
