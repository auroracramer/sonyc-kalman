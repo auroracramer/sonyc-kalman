{
 "cells": [
  {
   "cell_type": "code",
   "execution_count": 1,
   "metadata": {},
   "outputs": [
    {
     "name": "stdout",
     "output_type": "stream",
     "text": [
      "/home/jtc440/dev/sonyc-kalman/sonyc_kalman\n"
     ]
    }
   ],
   "source": [
    "cd .."
   ]
  },
  {
   "cell_type": "code",
   "execution_count": 2,
   "metadata": {},
   "outputs": [],
   "source": [
    "import os\n",
    "import numpy as np\n",
    "import tensorflow as tf\n",
    "from kvae import KalmanVariationalAutoencoder\n",
    "from kvae.utils import reload_config, get_train_config\n",
    "from data import load_openl3_time_series, series_splitter\n",
    "\n",
    "from data_aggr import medoid"
   ]
  },
  {
   "cell_type": "code",
   "execution_count": 3,
   "metadata": {},
   "outputs": [],
   "source": [
    "import sys\n",
    "sys.argv = ['foo.py']"
   ]
  },
  {
   "cell_type": "code",
   "execution_count": 4,
   "metadata": {},
   "outputs": [],
   "source": [
    "config = get_train_config()                                \n",
    "# To reload a saved model                                  \n",
    "config = reload_config(config.FLAGS)                       \n"
   ]
  },
  {
   "cell_type": "code",
   "execution_count": 5,
   "metadata": {},
   "outputs": [],
   "source": [
    "full_ts_path = '/scratch/jtc440/sonyc-kalman/sonycnode-b827eb2a1bce_60minslot_medoid.npz'\n",
    "hdf5_path = '/beegfs/work/sonyc/features/openl3/2017/sonycnode-b827eb2a1bce.sonyc_features_openl3.h5'"
   ]
  },
  {
   "cell_type": "code",
   "execution_count": 6,
   "metadata": {},
   "outputs": [],
   "source": [
    "config.log_dir = '/scratch/jtc440/sonyc-kalman'"
   ]
  },
  {
   "cell_type": "code",
   "execution_count": 7,
   "metadata": {},
   "outputs": [],
   "source": [
    "if os.path.exists(full_ts_path):\n",
    "    data = np.load(full_ts_path)\n",
    "    X = data['X']\n",
    "    mask = data['mask']\n",
    "else:\n",
    "    X, mask = load_openl3_time_series(hdf5_path, aggr_func=medoid, delta_mins=60)\n",
    "    np.savez(full_ts_path, X=X, mask=mask)"
   ]
  },
  {
   "cell_type": "code",
   "execution_count": 9,
   "metadata": {},
   "outputs": [],
   "source": [
    "train_mask, test_mask = series_splitter(mask.shape[0], min_hole_size=10)"
   ]
  },
  {
   "cell_type": "code",
   "execution_count": 12,
   "metadata": {},
   "outputs": [],
   "source": [
    "train_mask_path = '/scratch/jtc440/sonyc-kalman/sonycnode-b827eb2a1bce_60minslot_medoid_train_mask.npy'\n",
    "test_mask_path = '/scratch/jtc440/sonyc-kalman/sonycnode-b827eb2a1bce_60minslot_medoid_test_mask.npy'\n",
    "\n",
    "np.save(train_mask_path, train_mask)\n",
    "np.save(test_mask_path, test_mask)"
   ]
  },
  {
   "cell_type": "code",
   "execution_count": 73,
   "metadata": {},
   "outputs": [],
   "source": [
    "import itertools\n",
    "import operator\n",
    "import librosa \n",
    "def mask_to_segment_idxs(mask):\n",
    "    segment_idxs_list = []\n",
    "    for key, it in itertools.groupby(enumerate(mask), key=operator.itemgetter(1)):\n",
    "        # Skip masked values\n",
    "        if key:\n",
    "            continue\n",
    "            \n",
    "        segment_idxs_list.append(np.array(list(zip(*it))[0]))\n",
    "        \n",
    "    return segment_idxs_list\n",
    "\n",
    "def compute_batches(X, mask, n_timesteps, hop_length):\n",
    "    \n",
    "    X_batch_list = []\n",
    "    mask_batch_list = []\n",
    "\n",
    "    for seg_idxs in mask_to_segment_idxs(mask):\n",
    "        # Extract the current segment\n",
    "        X_seg = X[seg_idxs, :]\n",
    "        mask_seg = mask[seg_idxs]\n",
    "\n",
    "        num_frames = len(seg_idxs)\n",
    "        pad_length = max(0, int(np.ceil((num_frames - n_timesteps)/hop_length))*hop_length) + n_timesteps - num_frames\n",
    "\n",
    "        # Pad the segment so we don't lose any frames\n",
    "        X_seg = np.pad(X_seg, ((0, pad_length), (0,0)), mode='constant')\n",
    "        # Padding is with ones for the mask\n",
    "        mask_seg = np.pad(mask_seg, (0, pad_length), mode='constant', constant_values=1)\n",
    "        \n",
    "        \n",
    "        # Divide segment into frames\n",
    "        X_seg_batch = librosa.util.frame(X_seg, frame_length=n_timesteps, hop_length=hop_length, axis=0)\n",
    "        mask_seg_batch = librosa.util.frame(mask_seg, frame_length=n_timesteps, hop_length=hop_length).T\n",
    "        \n",
    "        # Accumulate current segment batches\n",
    "        X_batch_list.append(X_seg_batch)\n",
    "        mask_batch_list.append(mask_seg_batch)\n",
    "        \n",
    "    return np.concatenate(X_batch_list, axis=0), np.concatenate(mask_batch_list, axis=0)\n",
    "        "
   ]
  },
  {
   "cell_type": "code",
   "execution_count": 78,
   "metadata": {},
   "outputs": [
    {
     "data": {
      "text/plain": [
       "(220, 16, 512)"
      ]
     },
     "execution_count": 78,
     "metadata": {},
     "output_type": "execute_result"
    }
   ],
   "source": [
    "compute_batches(X, test_mask, 16, 8)[0].shape"
   ]
  },
  {
   "cell_type": "code",
   "execution_count": 134,
   "metadata": {},
   "outputs": [
    {
     "data": {
      "text/plain": [
       "249"
      ]
     },
     "execution_count": 134,
     "metadata": {},
     "output_type": "execute_result"
    }
   ],
   "source": [
    "max([msk.shape[0] for msk in mask_to_segment_idxs(test_mask)])"
   ]
  },
  {
   "cell_type": "code",
   "execution_count": 27,
   "metadata": {},
   "outputs": [
    {
     "ename": "KeyboardInterrupt",
     "evalue": "",
     "output_type": "error",
     "traceback": [
      "\u001b[0;31m---------------------------------------------------------------------------\u001b[0m",
      "\u001b[0;31mKeyboardInterrupt\u001b[0m                         Traceback (most recent call last)",
      "\u001b[0;32m<ipython-input-27-50c025e6789b>\u001b[0m in \u001b[0;36m<module>\u001b[0;34m\u001b[0m\n\u001b[0;32m----> 1\u001b[0;31m \u001b[0;32mimport\u001b[0m \u001b[0mlibrosa\u001b[0m\u001b[0;34m\u001b[0m\u001b[0;34m\u001b[0m\u001b[0m\n\u001b[0m\u001b[1;32m      2\u001b[0m \u001b[0;34m\u001b[0m\u001b[0m\n\u001b[1;32m      3\u001b[0m \u001b[0mX_train_full\u001b[0m \u001b[0;34m=\u001b[0m \u001b[0mnp\u001b[0m\u001b[0;34m.\u001b[0m\u001b[0mascontiguousarray\u001b[0m\u001b[0;34m(\u001b[0m\u001b[0mX\u001b[0m\u001b[0;34m[\u001b[0m\u001b[0mX\u001b[0m\u001b[0;34m.\u001b[0m\u001b[0mshape\u001b[0m\u001b[0;34m[\u001b[0m\u001b[0;36m0\u001b[0m\u001b[0;34m]\u001b[0m\u001b[0;34m//\u001b[0m\u001b[0;36m4\u001b[0m\u001b[0;34m:\u001b[0m\u001b[0;34m]\u001b[0m\u001b[0;34m)\u001b[0m\u001b[0;34m\u001b[0m\u001b[0;34m\u001b[0m\u001b[0m\n\u001b[1;32m      4\u001b[0m \u001b[0mX_test_full\u001b[0m \u001b[0;34m=\u001b[0m \u001b[0mnp\u001b[0m\u001b[0;34m.\u001b[0m\u001b[0mascontiguousarray\u001b[0m\u001b[0;34m(\u001b[0m\u001b[0mX\u001b[0m\u001b[0;34m[\u001b[0m\u001b[0;34m:\u001b[0m\u001b[0mX\u001b[0m\u001b[0;34m.\u001b[0m\u001b[0mshape\u001b[0m\u001b[0;34m[\u001b[0m\u001b[0;36m0\u001b[0m\u001b[0;34m]\u001b[0m\u001b[0;34m//\u001b[0m\u001b[0;36m4\u001b[0m\u001b[0;34m]\u001b[0m\u001b[0;34m)\u001b[0m\u001b[0;34m\u001b[0m\u001b[0;34m\u001b[0m\u001b[0m\n\u001b[1;32m      5\u001b[0m \u001b[0;34m\u001b[0m\u001b[0m\n",
      "\u001b[0;32m~/miniconda3/envs/ust_gpu/lib/python3.6/site-packages/librosa/__init__.py\u001b[0m in \u001b[0;36m<module>\u001b[0;34m\u001b[0m\n\u001b[1;32m     10\u001b[0m \u001b[0;31m# And all the librosa sub-modules\u001b[0m\u001b[0;34m\u001b[0m\u001b[0;34m\u001b[0m\u001b[0;34m\u001b[0m\u001b[0m\n\u001b[1;32m     11\u001b[0m \u001b[0;32mfrom\u001b[0m \u001b[0;34m.\u001b[0m\u001b[0m_cache\u001b[0m \u001b[0;32mimport\u001b[0m \u001b[0mcache\u001b[0m\u001b[0;34m\u001b[0m\u001b[0;34m\u001b[0m\u001b[0m\n\u001b[0;32m---> 12\u001b[0;31m \u001b[0;32mfrom\u001b[0m \u001b[0;34m.\u001b[0m \u001b[0;32mimport\u001b[0m \u001b[0mcore\u001b[0m\u001b[0;34m\u001b[0m\u001b[0;34m\u001b[0m\u001b[0m\n\u001b[0m\u001b[1;32m     13\u001b[0m \u001b[0;32mfrom\u001b[0m \u001b[0;34m.\u001b[0m \u001b[0;32mimport\u001b[0m \u001b[0mbeat\u001b[0m\u001b[0;34m\u001b[0m\u001b[0;34m\u001b[0m\u001b[0m\n\u001b[1;32m     14\u001b[0m \u001b[0;32mfrom\u001b[0m \u001b[0;34m.\u001b[0m \u001b[0;32mimport\u001b[0m \u001b[0mdecompose\u001b[0m\u001b[0;34m\u001b[0m\u001b[0;34m\u001b[0m\u001b[0m\n",
      "\u001b[0;32m~/miniconda3/envs/ust_gpu/lib/python3.6/site-packages/librosa/core/__init__.py\u001b[0m in \u001b[0;36m<module>\u001b[0;34m\u001b[0m\n\u001b[1;32m    121\u001b[0m \"\"\"\n\u001b[1;32m    122\u001b[0m \u001b[0;34m\u001b[0m\u001b[0m\n\u001b[0;32m--> 123\u001b[0;31m \u001b[0;32mfrom\u001b[0m \u001b[0;34m.\u001b[0m\u001b[0mtime_frequency\u001b[0m \u001b[0;32mimport\u001b[0m \u001b[0;34m*\u001b[0m  \u001b[0;31m# pylint: disable=wildcard-import\u001b[0m\u001b[0;34m\u001b[0m\u001b[0;34m\u001b[0m\u001b[0m\n\u001b[0m\u001b[1;32m    124\u001b[0m \u001b[0;32mfrom\u001b[0m \u001b[0;34m.\u001b[0m\u001b[0maudio\u001b[0m \u001b[0;32mimport\u001b[0m \u001b[0;34m*\u001b[0m  \u001b[0;31m# pylint: disable=wildcard-import\u001b[0m\u001b[0;34m\u001b[0m\u001b[0;34m\u001b[0m\u001b[0m\n\u001b[1;32m    125\u001b[0m \u001b[0;32mfrom\u001b[0m \u001b[0;34m.\u001b[0m\u001b[0mspectrum\u001b[0m \u001b[0;32mimport\u001b[0m \u001b[0;34m*\u001b[0m  \u001b[0;31m# pylint: disable=wildcard-import\u001b[0m\u001b[0;34m\u001b[0m\u001b[0;34m\u001b[0m\u001b[0m\n",
      "\u001b[0;32m~/miniconda3/envs/ust_gpu/lib/python3.6/site-packages/librosa/core/time_frequency.py\u001b[0m in \u001b[0;36m<module>\u001b[0;34m\u001b[0m\n\u001b[1;32m      9\u001b[0m \u001b[0;32mimport\u001b[0m \u001b[0msix\u001b[0m\u001b[0;34m\u001b[0m\u001b[0;34m\u001b[0m\u001b[0m\n\u001b[1;32m     10\u001b[0m \u001b[0;34m\u001b[0m\u001b[0m\n\u001b[0;32m---> 11\u001b[0;31m \u001b[0;32mfrom\u001b[0m \u001b[0;34m.\u001b[0m\u001b[0;34m.\u001b[0m\u001b[0mutil\u001b[0m\u001b[0;34m.\u001b[0m\u001b[0mexceptions\u001b[0m \u001b[0;32mimport\u001b[0m \u001b[0mParameterError\u001b[0m\u001b[0;34m\u001b[0m\u001b[0;34m\u001b[0m\u001b[0m\n\u001b[0m\u001b[1;32m     12\u001b[0m \u001b[0;32mfrom\u001b[0m \u001b[0;34m.\u001b[0m\u001b[0;34m.\u001b[0m\u001b[0mutil\u001b[0m\u001b[0;34m.\u001b[0m\u001b[0mdeprecation\u001b[0m \u001b[0;32mimport\u001b[0m \u001b[0mDeprecated\u001b[0m\u001b[0;34m\u001b[0m\u001b[0;34m\u001b[0m\u001b[0m\n\u001b[1;32m     13\u001b[0m \u001b[0;34m\u001b[0m\u001b[0m\n",
      "\u001b[0;32m~/miniconda3/envs/ust_gpu/lib/python3.6/site-packages/librosa/util/__init__.py\u001b[0m in \u001b[0;36m<module>\u001b[0;34m\u001b[0m\n\u001b[1;32m     75\u001b[0m \"\"\"\n\u001b[1;32m     76\u001b[0m \u001b[0;34m\u001b[0m\u001b[0m\n\u001b[0;32m---> 77\u001b[0;31m \u001b[0;32mfrom\u001b[0m \u001b[0;34m.\u001b[0m\u001b[0mutils\u001b[0m \u001b[0;32mimport\u001b[0m \u001b[0;34m*\u001b[0m  \u001b[0;31m# pylint: disable=wildcard-import\u001b[0m\u001b[0;34m\u001b[0m\u001b[0;34m\u001b[0m\u001b[0m\n\u001b[0m\u001b[1;32m     78\u001b[0m \u001b[0;32mfrom\u001b[0m \u001b[0;34m.\u001b[0m\u001b[0mfiles\u001b[0m \u001b[0;32mimport\u001b[0m \u001b[0;34m*\u001b[0m  \u001b[0;31m# pylint: disable=wildcard-import\u001b[0m\u001b[0;34m\u001b[0m\u001b[0;34m\u001b[0m\u001b[0m\n\u001b[1;32m     79\u001b[0m \u001b[0;32mfrom\u001b[0m \u001b[0;34m.\u001b[0m\u001b[0mmatching\u001b[0m \u001b[0;32mimport\u001b[0m \u001b[0;34m*\u001b[0m  \u001b[0;31m# pylint: disable=wildcard-import\u001b[0m\u001b[0;34m\u001b[0m\u001b[0;34m\u001b[0m\u001b[0m\n",
      "\u001b[0;32m~/miniconda3/envs/ust_gpu/lib/python3.6/site-packages/librosa/util/utils.py\u001b[0m in \u001b[0;36m<module>\u001b[0;34m\u001b[0m\n\u001b[1;32m      8\u001b[0m \u001b[0;34m\u001b[0m\u001b[0m\n\u001b[1;32m      9\u001b[0m \u001b[0;32mimport\u001b[0m \u001b[0mnumpy\u001b[0m \u001b[0;32mas\u001b[0m \u001b[0mnp\u001b[0m\u001b[0;34m\u001b[0m\u001b[0;34m\u001b[0m\u001b[0m\n\u001b[0;32m---> 10\u001b[0;31m \u001b[0;32mimport\u001b[0m \u001b[0mnumba\u001b[0m\u001b[0;34m\u001b[0m\u001b[0;34m\u001b[0m\u001b[0m\n\u001b[0m\u001b[1;32m     11\u001b[0m \u001b[0;32mfrom\u001b[0m \u001b[0mnumpy\u001b[0m\u001b[0;34m.\u001b[0m\u001b[0mlib\u001b[0m\u001b[0;34m.\u001b[0m\u001b[0mstride_tricks\u001b[0m \u001b[0;32mimport\u001b[0m \u001b[0mas_strided\u001b[0m\u001b[0;34m\u001b[0m\u001b[0;34m\u001b[0m\u001b[0m\n\u001b[1;32m     12\u001b[0m \u001b[0;34m\u001b[0m\u001b[0m\n",
      "\u001b[0;32m~/miniconda3/envs/ust_gpu/lib/python3.6/site-packages/numba/__init__.py\u001b[0m in \u001b[0;36m<module>\u001b[0;34m\u001b[0m\n\u001b[1;32m     12\u001b[0m \u001b[0;34m\u001b[0m\u001b[0m\n\u001b[1;32m     13\u001b[0m \u001b[0;31m# Re-export typeof\u001b[0m\u001b[0;34m\u001b[0m\u001b[0;34m\u001b[0m\u001b[0;34m\u001b[0m\u001b[0m\n\u001b[0;32m---> 14\u001b[0;31m \u001b[0;32mfrom\u001b[0m \u001b[0;34m.\u001b[0m\u001b[0mspecial\u001b[0m \u001b[0;32mimport\u001b[0m \u001b[0mtypeof\u001b[0m\u001b[0;34m,\u001b[0m \u001b[0mprange\u001b[0m\u001b[0;34m,\u001b[0m \u001b[0mpndindex\u001b[0m\u001b[0;34m,\u001b[0m \u001b[0mgdb\u001b[0m\u001b[0;34m,\u001b[0m \u001b[0mgdb_breakpoint\u001b[0m\u001b[0;34m,\u001b[0m \u001b[0mgdb_init\u001b[0m\u001b[0;34m\u001b[0m\u001b[0;34m\u001b[0m\u001b[0m\n\u001b[0m\u001b[1;32m     15\u001b[0m \u001b[0;34m\u001b[0m\u001b[0m\n\u001b[1;32m     16\u001b[0m \u001b[0;31m# Re-export error classes\u001b[0m\u001b[0;34m\u001b[0m\u001b[0;34m\u001b[0m\u001b[0;34m\u001b[0m\u001b[0m\n",
      "\u001b[0;32m~/miniconda3/envs/ust_gpu/lib/python3.6/site-packages/numba/special.py\u001b[0m in \u001b[0;36m<module>\u001b[0;34m\u001b[0m\n\u001b[1;32m      1\u001b[0m \u001b[0;32mfrom\u001b[0m \u001b[0m__future__\u001b[0m \u001b[0;32mimport\u001b[0m \u001b[0mprint_function\u001b[0m\u001b[0;34m,\u001b[0m \u001b[0mdivision\u001b[0m\u001b[0;34m,\u001b[0m \u001b[0mabsolute_import\u001b[0m\u001b[0;34m\u001b[0m\u001b[0;34m\u001b[0m\u001b[0m\n\u001b[1;32m      2\u001b[0m \u001b[0;34m\u001b[0m\u001b[0m\n\u001b[0;32m----> 3\u001b[0;31m \u001b[0;32mfrom\u001b[0m \u001b[0;34m.\u001b[0m\u001b[0mtyping\u001b[0m\u001b[0;34m.\u001b[0m\u001b[0mtypeof\u001b[0m \u001b[0;32mimport\u001b[0m \u001b[0mtypeof\u001b[0m\u001b[0;34m\u001b[0m\u001b[0;34m\u001b[0m\u001b[0m\n\u001b[0m\u001b[1;32m      4\u001b[0m \u001b[0;32mimport\u001b[0m \u001b[0mnumpy\u001b[0m \u001b[0;32mas\u001b[0m \u001b[0mnp\u001b[0m\u001b[0;34m\u001b[0m\u001b[0;34m\u001b[0m\u001b[0m\n\u001b[1;32m      5\u001b[0m \u001b[0;34m\u001b[0m\u001b[0m\n",
      "\u001b[0;32m~/miniconda3/envs/ust_gpu/lib/python3.6/site-packages/numba/typing/__init__.py\u001b[0m in \u001b[0;36m<module>\u001b[0;34m\u001b[0m\n\u001b[1;32m      1\u001b[0m \u001b[0;32mfrom\u001b[0m \u001b[0m__future__\u001b[0m \u001b[0;32mimport\u001b[0m \u001b[0mabsolute_import\u001b[0m\u001b[0;34m\u001b[0m\u001b[0;34m\u001b[0m\u001b[0m\n\u001b[0;32m----> 2\u001b[0;31m \u001b[0;32mfrom\u001b[0m \u001b[0;34m.\u001b[0m\u001b[0mcontext\u001b[0m \u001b[0;32mimport\u001b[0m \u001b[0mBaseContext\u001b[0m\u001b[0;34m,\u001b[0m \u001b[0mContext\u001b[0m\u001b[0;34m\u001b[0m\u001b[0;34m\u001b[0m\u001b[0m\n\u001b[0m\u001b[1;32m      3\u001b[0m from .templates import (signature, make_concrete_template, Signature,\n\u001b[1;32m      4\u001b[0m                         fold_arguments)\n",
      "\u001b[0;32m~/miniconda3/envs/ust_gpu/lib/python3.6/site-packages/numba/typing/context.py\u001b[0m in \u001b[0;36m<module>\u001b[0;34m\u001b[0m\n\u001b[1;32m     12\u001b[0m \u001b[0;32mfrom\u001b[0m \u001b[0mnumba\u001b[0m\u001b[0;34m.\u001b[0m\u001b[0mtypeconv\u001b[0m \u001b[0;32mimport\u001b[0m \u001b[0mConversion\u001b[0m\u001b[0;34m,\u001b[0m \u001b[0mrules\u001b[0m\u001b[0;34m\u001b[0m\u001b[0;34m\u001b[0m\u001b[0m\n\u001b[1;32m     13\u001b[0m \u001b[0;32mfrom\u001b[0m \u001b[0;34m.\u001b[0m \u001b[0;32mimport\u001b[0m \u001b[0mtemplates\u001b[0m\u001b[0;34m\u001b[0m\u001b[0;34m\u001b[0m\u001b[0m\n\u001b[0;32m---> 14\u001b[0;31m \u001b[0;32mfrom\u001b[0m \u001b[0;34m.\u001b[0m\u001b[0mtypeof\u001b[0m \u001b[0;32mimport\u001b[0m \u001b[0mtypeof\u001b[0m\u001b[0;34m,\u001b[0m \u001b[0mPurpose\u001b[0m\u001b[0;34m\u001b[0m\u001b[0;34m\u001b[0m\u001b[0m\n\u001b[0m\u001b[1;32m     15\u001b[0m \u001b[0;34m\u001b[0m\u001b[0m\n\u001b[1;32m     16\u001b[0m \u001b[0;32mfrom\u001b[0m \u001b[0mnumba\u001b[0m \u001b[0;32mimport\u001b[0m \u001b[0mutils\u001b[0m\u001b[0;34m\u001b[0m\u001b[0;34m\u001b[0m\u001b[0m\n",
      "\u001b[0;32m~/miniconda3/envs/ust_gpu/lib/python3.6/site-packages/numba/typing/typeof.py\u001b[0m in \u001b[0;36m<module>\u001b[0;34m\u001b[0m\n\u001b[1;32m      7\u001b[0m \u001b[0;32mimport\u001b[0m \u001b[0mnumpy\u001b[0m \u001b[0;32mas\u001b[0m \u001b[0mnp\u001b[0m\u001b[0;34m\u001b[0m\u001b[0;34m\u001b[0m\u001b[0m\n\u001b[1;32m      8\u001b[0m \u001b[0;34m\u001b[0m\u001b[0m\n\u001b[0;32m----> 9\u001b[0;31m \u001b[0;32mfrom\u001b[0m \u001b[0mnumba\u001b[0m \u001b[0;32mimport\u001b[0m \u001b[0mnumpy_support\u001b[0m\u001b[0;34m,\u001b[0m \u001b[0mtypes\u001b[0m\u001b[0;34m,\u001b[0m \u001b[0mutils\u001b[0m\u001b[0;34m,\u001b[0m \u001b[0msmartarray\u001b[0m\u001b[0;34m\u001b[0m\u001b[0;34m\u001b[0m\u001b[0m\n\u001b[0m\u001b[1;32m     10\u001b[0m \u001b[0;32mfrom\u001b[0m \u001b[0mnumba\u001b[0m \u001b[0;32mimport\u001b[0m \u001b[0merrors\u001b[0m\u001b[0;34m\u001b[0m\u001b[0;34m\u001b[0m\u001b[0m\n\u001b[1;32m     11\u001b[0m \u001b[0;34m\u001b[0m\u001b[0m\n",
      "\u001b[0;32m~/miniconda3/envs/ust_gpu/lib/python3.6/site-packages/numba/smartarray.py\u001b[0m in \u001b[0;36m<module>\u001b[0;34m\u001b[0m\n\u001b[0;32m----> 1\u001b[0;31m \u001b[0;32mfrom\u001b[0m \u001b[0mnumba\u001b[0m\u001b[0;34m.\u001b[0m\u001b[0mtracing\u001b[0m \u001b[0;32mimport\u001b[0m \u001b[0mtrace\u001b[0m\u001b[0;34m\u001b[0m\u001b[0;34m\u001b[0m\u001b[0m\n\u001b[0m\u001b[1;32m      2\u001b[0m \u001b[0;32mfrom\u001b[0m \u001b[0mnumba\u001b[0m\u001b[0;34m.\u001b[0m\u001b[0merrors\u001b[0m \u001b[0;32mimport\u001b[0m \u001b[0mdeprecated\u001b[0m\u001b[0;34m,\u001b[0m \u001b[0mNumbaDeprecationWarning\u001b[0m\u001b[0;34m\u001b[0m\u001b[0;34m\u001b[0m\u001b[0m\n\u001b[1;32m      3\u001b[0m \u001b[0;32mimport\u001b[0m \u001b[0mwarnings\u001b[0m\u001b[0;34m\u001b[0m\u001b[0;34m\u001b[0m\u001b[0m\n\u001b[1;32m      4\u001b[0m \u001b[0;34m\u001b[0m\u001b[0m\n\u001b[1;32m      5\u001b[0m \u001b[0;32mimport\u001b[0m \u001b[0msys\u001b[0m\u001b[0;34m\u001b[0m\u001b[0;34m\u001b[0m\u001b[0m\n",
      "\u001b[0;32m~/miniconda3/envs/ust_gpu/lib/python3.6/importlib/_bootstrap.py\u001b[0m in \u001b[0;36m_find_and_load\u001b[0;34m(name, import_)\u001b[0m\n",
      "\u001b[0;32m~/miniconda3/envs/ust_gpu/lib/python3.6/importlib/_bootstrap.py\u001b[0m in \u001b[0;36m_find_and_load_unlocked\u001b[0;34m(name, import_)\u001b[0m\n",
      "\u001b[0;32m~/miniconda3/envs/ust_gpu/lib/python3.6/importlib/_bootstrap.py\u001b[0m in \u001b[0;36m_load_unlocked\u001b[0;34m(spec)\u001b[0m\n",
      "\u001b[0;32m~/miniconda3/envs/ust_gpu/lib/python3.6/importlib/_bootstrap_external.py\u001b[0m in \u001b[0;36mexec_module\u001b[0;34m(self, module)\u001b[0m\n",
      "\u001b[0;32m~/miniconda3/envs/ust_gpu/lib/python3.6/importlib/_bootstrap_external.py\u001b[0m in \u001b[0;36mget_code\u001b[0;34m(self, fullname)\u001b[0m\n",
      "\u001b[0;32m~/miniconda3/envs/ust_gpu/lib/python3.6/importlib/_bootstrap_external.py\u001b[0m in \u001b[0;36mget_data\u001b[0;34m(self, path)\u001b[0m\n",
      "\u001b[0;31mKeyboardInterrupt\u001b[0m: "
     ]
    }
   ],
   "source": [
    "import librosa\n",
    "\n",
    "X_train_full = np.ascontiguousarray(X[X.shape[0]//4:])\n",
    "X_test_full = np.ascontiguousarray(X[:X.shape[0]//4])\n",
    "\n",
    "n_timesteps = 24\n",
    "hop_length = n_timesteps // 4\n",
    "train_data = librosa.util.frame(X_train_full, frame_length=n_timesteps, hop_length=hop_length, axis=0)\n",
    "test_data = librosa.util.frame(X_test_full, frame_length=n_timesteps, hop_length=hop_length, axis=0)\n",
    "\n"
   ]
  },
  {
   "cell_type": "code",
   "execution_count": 8,
   "metadata": {},
   "outputs": [],
   "source": [
    "os.environ['CUDA_VISIBLE_DEVICES'] = config.gpu"
   ]
  },
  {
   "cell_type": "code",
   "execution_count": 9,
   "metadata": {
    "scrolled": false
   },
   "outputs": [
    {
     "name": "stderr",
     "output_type": "stream",
     "text": [
      "W1118 19:16:13.079126 47468108574336 deprecation_wrapper.py:119] From /home/jtc440/dev/sonyc-kalman/sonyc_kalman/kvae/KalmanVariationalAutoencoder.py:65: The name tf.placeholder is deprecated. Please use tf.compat.v1.placeholder instead.\n",
      "\n",
      "W1118 19:16:13.084347 47468108574336 deprecation_wrapper.py:119] From /home/jtc440/dev/sonyc-kalman/sonyc_kalman/kvae/KalmanVariationalAutoencoder.py:93: The name tf.variable_scope is deprecated. Please use tf.compat.v1.variable_scope instead.\n",
      "\n",
      "W1118 19:16:13.457742 47468108574336 deprecation_wrapper.py:119] From /home/jtc440/dev/sonyc-kalman/sonyc_kalman/kvae/utils/nn.py:13: The name tf.random_normal is deprecated. Please use tf.random.normal instead.\n",
      "\n",
      "W1118 19:16:13.467852 47468108574336 deprecation.py:323] From /home/jtc440/dev/sonyc-kalman/sonyc_kalman/kvae/KalmanVariationalAutoencoder.py:196: BasicLSTMCell.__init__ (from tensorflow.python.ops.rnn_cell_impl) is deprecated and will be removed in a future version.\n",
      "Instructions for updating:\n",
      "This class is equivalent as tf.keras.layers.LSTMCell, and will be replaced by that in Tensorflow 2.0.\n",
      "W1118 19:16:13.481930 47468108574336 deprecation_wrapper.py:119] From /home/jtc440/dev/sonyc-kalman/sonyc_kalman/kvae/filter.py:23: The name tf.get_variable is deprecated. Please use tf.compat.v1.get_variable instead.\n",
      "\n",
      "W1118 19:16:13.659754 47468108574336 deprecation.py:506] From /home/jtc440/miniconda3/envs/ust_gpu/lib/python3.6/site-packages/tensorflow/python/ops/init_ops.py:1251: calling VarianceScaling.__init__ (from tensorflow.python.ops.init_ops) with dtype is deprecated and will be removed in a future version.\n",
      "Instructions for updating:\n",
      "Call initializer instance with the dtype argument instead of passing it to the constructor\n",
      "W1118 19:16:13.669902 47468108574336 deprecation.py:506] From /home/jtc440/miniconda3/envs/ust_gpu/lib/python3.6/site-packages/tensorflow/python/ops/rnn_cell_impl.py:738: calling Zeros.__init__ (from tensorflow.python.ops.init_ops) with dtype is deprecated and will be removed in a future version.\n",
      "Instructions for updating:\n",
      "Call initializer instance with the dtype argument instead of passing it to the constructor\n",
      "W1118 19:16:18.917360 47468108574336 deprecation_wrapper.py:119] From /home/jtc440/dev/sonyc-kalman/sonyc_kalman/kvae/filter.py:210: The name tf.cholesky is deprecated. Please use tf.linalg.cholesky instead.\n",
      "\n",
      "W1118 19:16:18.919991 47468108574336 deprecation.py:323] From /home/jtc440/dev/sonyc-kalman/sonyc_kalman/kvae/filter.py:210: MultivariateNormalTriL.__init__ (from tensorflow.contrib.distributions.python.ops.mvn_tril) is deprecated and will be removed after 2018-10-01.\n",
      "Instructions for updating:\n",
      "The TensorFlow Distributions library has moved to TensorFlow Probability (https://github.com/tensorflow/probability). You should update all references to use `tfp.distributions` instead of `tf.contrib.distributions`.\n",
      "W1118 19:16:18.923562 47468108574336 deprecation.py:323] From /home/jtc440/miniconda3/envs/ust_gpu/lib/python3.6/site-packages/tensorflow/contrib/distributions/python/ops/mvn_tril.py:222: MultivariateNormalLinearOperator.__init__ (from tensorflow.contrib.distributions.python.ops.mvn_linear_operator) is deprecated and will be removed after 2018-10-01.\n",
      "Instructions for updating:\n",
      "The TensorFlow Distributions library has moved to TensorFlow Probability (https://github.com/tensorflow/probability). You should update all references to use `tfp.distributions` instead of `tf.contrib.distributions`.\n",
      "W1118 19:16:18.927688 47468108574336 deprecation.py:323] From /home/jtc440/miniconda3/envs/ust_gpu/lib/python3.6/site-packages/tensorflow/contrib/distributions/python/ops/mvn_linear_operator.py:199: Normal.__init__ (from tensorflow.python.ops.distributions.normal) is deprecated and will be removed after 2019-01-01.\n",
      "Instructions for updating:\n",
      "The TensorFlow Distributions library has moved to TensorFlow Probability (https://github.com/tensorflow/probability). You should update all references to use `tfp.distributions` instead of `tf.distributions`.\n",
      "W1118 19:16:18.929624 47468108574336 deprecation.py:323] From /home/jtc440/miniconda3/envs/ust_gpu/lib/python3.6/site-packages/tensorflow/python/ops/distributions/normal.py:160: Distribution.__init__ (from tensorflow.python.ops.distributions.distribution) is deprecated and will be removed after 2019-01-01.\n",
      "Instructions for updating:\n",
      "The TensorFlow Distributions library has moved to TensorFlow Probability (https://github.com/tensorflow/probability). You should update all references to use `tfp.distributions` instead of `tf.distributions`.\n",
      "W1118 19:16:18.930190 47468108574336 deprecation.py:323] From /home/jtc440/miniconda3/envs/ust_gpu/lib/python3.6/site-packages/tensorflow/contrib/distributions/python/ops/mvn_linear_operator.py:201: AffineLinearOperator.__init__ (from tensorflow.contrib.distributions.python.ops.bijectors.affine_linear_operator) is deprecated and will be removed after 2018-10-01.\n",
      "Instructions for updating:\n",
      "The TensorFlow Distributions library has moved to TensorFlow Probability (https://github.com/tensorflow/probability). You should update all references to use `tfp.distributions` instead of `tf.contrib.distributions`.\n",
      "W1118 19:16:18.930828 47468108574336 deprecation.py:323] From /home/jtc440/miniconda3/envs/ust_gpu/lib/python3.6/site-packages/tensorflow/contrib/distributions/python/ops/bijectors/affine_linear_operator.py:158: _DistributionShape.__init__ (from tensorflow.contrib.distributions.python.ops.shape) is deprecated and will be removed after 2018-10-01.\n",
      "Instructions for updating:\n",
      "The TensorFlow Distributions library has moved to TensorFlow Probability (https://github.com/tensorflow/probability). You should update all references to use `tfp.distributions` instead of `tf.contrib.distributions`.\n",
      "W1118 19:16:18.933439 47468108574336 deprecation.py:323] From /home/jtc440/miniconda3/envs/ust_gpu/lib/python3.6/site-packages/tensorflow/contrib/distributions/python/ops/mvn_linear_operator.py:205: TransformedDistribution.__init__ (from tensorflow.python.ops.distributions.transformed_distribution) is deprecated and will be removed after 2019-01-01.\n",
      "Instructions for updating:\n",
      "The TensorFlow Distributions library has moved to TensorFlow Probability (https://github.com/tensorflow/probability). You should update all references to use `tfp.distributions` instead of `tf.distributions`.\n",
      "W1118 19:16:24.830636 47468108574336 deprecation.py:323] From /home/jtc440/dev/sonyc-kalman/sonyc_kalman/kvae/KalmanVariationalAutoencoder.py:274: get_or_create_global_step (from tensorflow.contrib.framework.python.ops.variables) is deprecated and will be removed in a future version.\n",
      "Instructions for updating:\n",
      "Please switch to tf.train.get_or_create_global_step\n",
      "W1118 19:16:24.835850 47468108574336 deprecation_wrapper.py:119] From /home/jtc440/dev/sonyc-kalman/sonyc_kalman/kvae/KalmanVariationalAutoencoder.py:275: The name tf.train.exponential_decay is deprecated. Please use tf.compat.v1.train.exponential_decay instead.\n",
      "\n",
      "W1118 19:16:25.297035 47468108574336 deprecation.py:323] From /home/jtc440/miniconda3/envs/ust_gpu/lib/python3.6/site-packages/tensorflow/python/ops/math_grad.py:1250: add_dispatch_support.<locals>.wrapper (from tensorflow.python.ops.array_ops) is deprecated and will be removed in a future version.\n",
      "Instructions for updating:\n",
      "Use tf.where in 2.0, which has the same broadcast rule as np.where\n",
      "W1118 19:16:31.940648 47468108574336 deprecation_wrapper.py:119] From /home/jtc440/dev/sonyc-kalman/sonyc_kalman/kvae/KalmanVariationalAutoencoder.py:318: The name tf.summary.scalar is deprecated. Please use tf.compat.v1.summary.scalar instead.\n",
      "\n",
      "W1118 19:16:31.946812 47468108574336 deprecation_wrapper.py:119] From /home/jtc440/dev/sonyc-kalman/sonyc_kalman/kvae/KalmanVariationalAutoencoder.py:327: The name tf.train.Saver is deprecated. Please use tf.compat.v1.train.Saver instead.\n",
      "\n",
      "W1118 19:16:33.104465 47468108574336 deprecation_wrapper.py:119] From /home/jtc440/dev/sonyc-kalman/sonyc_kalman/kvae/KalmanVariationalAutoencoder.py:342: The name tf.summary.FileWriter is deprecated. Please use tf.compat.v1.summary.FileWriter instead.\n",
      "\n",
      "W1118 19:16:35.402235 47468108574336 deprecation_wrapper.py:119] From /home/jtc440/dev/sonyc-kalman/sonyc_kalman/kvae/KalmanVariationalAutoencoder.py:351: The name tf.summary.merge_all is deprecated. Please use tf.compat.v1.summary.merge_all instead.\n",
      "\n"
     ]
    },
    {
     "name": "stdout",
     "output_type": "stream",
     "text": [
      "Epoch 0, ELBO 1776.57, log_probs [-32.66, -8.80, -102.19, 3.44], elbo_vae 6390.92, took 10.57s\n",
      "Hamming distance. x_imputed: 0.01031, x_filtered: 0.01034, x_gen_det: 0.01021, baseline: 0.01172. \n",
      "Normalized RMSE. a_imputed: 0.045, a_gen_det: 0.085\n",
      "-- TEST, ELBO 7839.12, log_probs [-7.54, -0.03, -4.45, 1.96], elbo_vae 7849.18, took 0.14s\n",
      "Epoch 1, ELBO 2329.05, log_probs [-5.22, 0.59, -1.12, 1.47], elbo_vae 7779.28, took 1.90s\n",
      "Epoch 2, ELBO 2331.16, log_probs [-3.63, 0.73, -0.63, 1.05], elbo_vae 7780.35, took 1.91s\n",
      "Epoch 3, ELBO 2331.65, log_probs [-3.02, 0.76, -0.58, 0.84], elbo_vae 7780.40, took 1.90s\n",
      "Epoch 4, ELBO 2331.81, log_probs [-2.61, 0.77, -0.61, 0.69], elbo_vae 7780.12, took 1.95s\n",
      "Epoch 5, ELBO 2331.92, log_probs [-2.31, 0.78, -0.60, 0.57], elbo_vae 7779.79, took 1.91s\n",
      "Epoch 6, ELBO 2331.85, log_probs [-2.11, 0.78, -0.65, 0.47], elbo_vae 7779.42, took 1.95s\n",
      "Epoch 7, ELBO 2332.21, log_probs [-1.98, 0.78, -0.53, 0.43], elbo_vae 7779.91, took 1.91s\n",
      "Epoch 8, ELBO 2332.31, log_probs [-1.79, 0.81, -0.51, 0.35], elbo_vae 7779.73, took 1.92s\n",
      "Epoch 9, ELBO 2332.37, log_probs [-1.70, 0.80, -0.49, 0.32], elbo_vae 7779.69, took 1.91s\n",
      "Epoch 10, ELBO 2319.35, log_probs [-1.17, 0.83, -0.53, -0.01], elbo_vae 7735.68, took 4.05s\n",
      "Epoch 11, ELBO 2333.10, log_probs [-0.95, 0.88, -0.44, -0.03], elbo_vae 7780.37, took 1.96s\n",
      "Epoch 12, ELBO 2333.31, log_probs [-0.84, 0.88, -0.44, 0.08], elbo_vae 7780.31, took 1.98s\n",
      "Epoch 13, ELBO 2333.52, log_probs [-0.80, 0.86, -0.47, 0.23], elbo_vae 7780.55, took 2.00s\n",
      "Epoch 14, ELBO 2333.65, log_probs [-0.70, 0.87, -0.46, 0.24], elbo_vae 7780.54, took 2.02s\n",
      "Epoch 15, ELBO 2333.77, log_probs [-0.67, 0.87, -0.46, 0.28], elbo_vae 7780.71, took 2.04s\n",
      "Epoch 16, ELBO 2333.82, log_probs [-0.67, 0.86, -0.46, 0.34], elbo_vae 7780.76, took 2.00s\n",
      "Epoch 17, ELBO 2333.83, log_probs [-0.65, 0.83, -0.46, 0.38], elbo_vae 7780.64, took 2.02s\n",
      "Epoch 18, ELBO 2333.82, log_probs [-0.67, 0.83, -0.45, 0.45], elbo_vae 7780.46, took 1.97s\n",
      "Epoch 19, ELBO 2333.86, log_probs [-0.68, 0.82, -0.45, 0.50], elbo_vae 7780.48, took 1.96s\n",
      "Hamming distance. x_imputed: 0.00833, x_filtered: 0.00833, x_gen_det: 0.00833, baseline: 0.01172. \n",
      "Normalized RMSE. a_imputed: 0.639, a_gen_det: 0.639\n",
      "-- TEST, ELBO 7850.32, log_probs [-0.69, 0.81, -0.45, 0.53], elbo_vae 7850.12, took 0.20s\n",
      "Epoch 20, ELBO 2333.96, log_probs [-0.69, 0.82, -0.45, 0.56], elbo_vae 7780.65, took 2.16s\n",
      "Epoch 21, ELBO 2333.97, log_probs [-0.70, 0.80, -0.47, 0.62], elbo_vae 7780.60, took 2.08s\n",
      "Epoch 22, ELBO 2333.99, log_probs [-0.70, 0.82, -0.47, 0.62], elbo_vae 7780.63, took 2.06s\n",
      "Epoch 23, ELBO 2334.01, log_probs [-0.70, 0.82, -0.47, 0.63], elbo_vae 7780.70, took 2.09s\n",
      "Epoch 24, ELBO 2334.01, log_probs [-0.71, 0.83, -0.47, 0.62], elbo_vae 7780.68, took 2.01s\n",
      "Epoch 25, ELBO 2334.01, log_probs [-0.71, 0.82, -0.47, 0.63], elbo_vae 7780.69, took 2.01s\n",
      "Epoch 26, ELBO 2334.04, log_probs [-0.72, 0.82, -0.47, 0.64], elbo_vae 7780.73, took 2.06s\n",
      "Epoch 27, ELBO 2334.02, log_probs [-0.72, 0.84, -0.47, 0.64], elbo_vae 7780.67, took 2.04s\n",
      "Epoch 28, ELBO 2334.03, log_probs [-0.72, 0.83, -0.47, 0.64], elbo_vae 7780.71, took 1.99s\n",
      "Epoch 29, ELBO 2334.04, log_probs [-0.71, 0.83, -0.47, 0.63], elbo_vae 7780.73, took 2.03s\n",
      "Epoch 30, ELBO 2334.04, log_probs [-0.73, 0.83, -0.47, 0.65], elbo_vae 7780.75, took 1.99s\n",
      "Epoch 31, ELBO 2334.03, log_probs [-0.72, 0.83, -0.47, 0.63], elbo_vae 7780.72, took 2.00s\n",
      "Epoch 32, ELBO 2334.05, log_probs [-0.72, 0.84, -0.47, 0.65], elbo_vae 7780.74, took 1.98s\n",
      "Epoch 33, ELBO 2334.06, log_probs [-0.72, 0.84, -0.47, 0.65], elbo_vae 7780.79, took 2.00s\n",
      "Epoch 34, ELBO 2334.06, log_probs [-0.72, 0.83, -0.47, 0.64], elbo_vae 7780.80, took 1.96s\n",
      "Epoch 35, ELBO 2334.06, log_probs [-0.74, 0.83, -0.47, 0.66], elbo_vae 7780.83, took 1.97s\n",
      "Epoch 36, ELBO 2334.12, log_probs [-0.71, 0.84, -0.46, 0.64], elbo_vae 7780.96, took 1.99s\n",
      "Epoch 37, ELBO 2333.99, log_probs [-0.71, 0.83, -0.47, 0.64], elbo_vae 7780.56, took 1.99s\n",
      "Epoch 38, ELBO 2334.01, log_probs [-0.70, 0.83, -0.47, 0.63], elbo_vae 7780.60, took 2.02s\n",
      "Epoch 39, ELBO 2334.04, log_probs [-0.69, 0.84, -0.47, 0.63], elbo_vae 7780.69, took 2.05s\n",
      "Hamming distance. x_imputed: 0.00833, x_filtered: 0.00833, x_gen_det: 0.00833, baseline: 0.01172. \n",
      "Normalized RMSE. a_imputed: 0.753, a_gen_det: 0.711\n",
      "-- TEST, ELBO 7850.77, log_probs [-0.70, 0.84, -0.47, 0.65], elbo_vae 7850.45, took 0.17s\n",
      "Epoch 40, ELBO 2334.07, log_probs [-0.72, 0.83, -0.47, 0.65], elbo_vae 7780.80, took 1.97s\n",
      "Epoch 41, ELBO 2334.07, log_probs [-0.71, 0.83, -0.47, 0.64], elbo_vae 7780.83, took 1.98s\n",
      "Epoch 42, ELBO 2334.08, log_probs [-0.70, 0.82, -0.47, 0.64], elbo_vae 7780.87, took 1.98s\n",
      "Epoch 43, ELBO 2334.09, log_probs [-0.72, 0.84, -0.47, 0.65], elbo_vae 7780.87, took 1.99s\n",
      "Epoch 44, ELBO 2334.09, log_probs [-0.72, 0.83, -0.47, 0.66], elbo_vae 7780.86, took 2.00s\n",
      "Epoch 45, ELBO 2334.10, log_probs [-0.70, 0.83, -0.47, 0.63], elbo_vae 7780.88, took 1.99s\n",
      "Epoch 46, ELBO 2334.11, log_probs [-0.71, 0.84, -0.47, 0.65], elbo_vae 7780.90, took 1.99s\n",
      "Epoch 47, ELBO 2334.06, log_probs [-0.72, 0.84, -0.47, 0.64], elbo_vae 7780.78, took 2.00s\n",
      "Epoch 48, ELBO 2334.09, log_probs [-0.73, 0.84, -0.47, 0.65], elbo_vae 7780.87, took 2.01s\n",
      "Epoch 49, ELBO 2334.10, log_probs [-0.73, 0.83, -0.47, 0.67], elbo_vae 7780.90, took 1.98s\n",
      "Epoch 50, ELBO 2334.09, log_probs [-0.71, 0.84, -0.47, 0.64], elbo_vae 7780.82, took 2.01s\n",
      "Epoch 51, ELBO 2334.10, log_probs [-0.72, 0.83, -0.47, 0.65], elbo_vae 7780.88, took 1.96s\n",
      "Epoch 52, ELBO 2334.11, log_probs [-0.72, 0.84, -0.47, 0.65], elbo_vae 7780.92, took 1.99s\n",
      "Epoch 53, ELBO 2334.06, log_probs [-0.69, 0.83, -0.47, 0.63], elbo_vae 7780.74, took 2.01s\n",
      "Epoch 54, ELBO 2334.07, log_probs [-0.72, 0.83, -0.47, 0.66], elbo_vae 7780.77, took 2.02s\n",
      "Epoch 55, ELBO 2334.08, log_probs [-0.73, 0.83, -0.47, 0.67], elbo_vae 7780.84, took 2.00s\n",
      "Epoch 56, ELBO 2334.12, log_probs [-0.70, 0.83, -0.47, 0.64], elbo_vae 7780.92, took 2.00s\n",
      "Epoch 57, ELBO 2334.04, log_probs [-0.70, 0.83, -0.47, 0.65], elbo_vae 7780.66, took 2.00s\n",
      "Epoch 58, ELBO 2334.04, log_probs [-0.69, 0.84, -0.47, 0.64], elbo_vae 7780.66, took 1.96s\n",
      "Epoch 59, ELBO 2334.07, log_probs [-0.72, 0.82, -0.47, 0.66], elbo_vae 7780.76, took 1.96s\n",
      "Hamming distance. x_imputed: 0.00979, x_filtered: 0.00979, x_gen_det: 0.00979, baseline: 0.01172. \n",
      "Normalized RMSE. a_imputed: 0.653, a_gen_det: 0.640\n",
      "-- TEST, ELBO 7850.60, log_probs [-0.72, 0.82, -0.47, 0.66], elbo_vae 7850.30, took 0.18s\n",
      "Epoch 60, ELBO 2334.09, log_probs [-0.71, 0.83, -0.47, 0.66], elbo_vae 7780.83, took 2.10s\n",
      "Epoch 61, ELBO 2334.11, log_probs [-0.71, 0.84, -0.47, 0.65], elbo_vae 7780.88, took 2.05s\n",
      "Epoch 62, ELBO 2334.11, log_probs [-0.71, 0.84, -0.47, 0.66], elbo_vae 7780.89, took 2.01s\n",
      "Epoch 63, ELBO 2334.11, log_probs [-0.72, 0.84, -0.47, 0.66], elbo_vae 7780.88, took 2.04s\n",
      "Epoch 64, ELBO 2334.11, log_probs [-0.71, 0.83, -0.47, 0.65], elbo_vae 7780.92, took 2.01s\n",
      "Epoch 65, ELBO 2334.09, log_probs [-0.73, 0.83, -0.47, 0.68], elbo_vae 7780.84, took 2.02s\n",
      "Epoch 66, ELBO 2334.11, log_probs [-0.71, 0.83, -0.47, 0.66], elbo_vae 7780.89, took 2.05s\n",
      "Epoch 67, ELBO 2334.12, log_probs [-0.72, 0.83, -0.47, 0.68], elbo_vae 7780.90, took 2.03s\n",
      "Epoch 68, ELBO 2334.11, log_probs [-0.69, 0.82, -0.47, 0.65], elbo_vae 7780.89, took 2.01s\n",
      "Epoch 69, ELBO 2334.12, log_probs [-0.70, 0.83, -0.47, 0.66], elbo_vae 7780.90, took 2.03s\n",
      "Epoch 70, ELBO 2334.12, log_probs [-0.70, 0.83, -0.47, 0.66], elbo_vae 7780.90, took 2.04s\n",
      "Epoch 71, ELBO 2334.11, log_probs [-0.72, 0.83, -0.47, 0.67], elbo_vae 7780.88, took 2.03s\n",
      "Epoch 72, ELBO 2334.13, log_probs [-0.70, 0.83, -0.47, 0.66], elbo_vae 7780.91, took 2.01s\n",
      "Epoch 73, ELBO 2334.12, log_probs [-0.68, 0.83, -0.47, 0.65], elbo_vae 7780.87, took 2.01s\n",
      "Epoch 74, ELBO 2334.12, log_probs [-0.70, 0.84, -0.47, 0.66], elbo_vae 7780.87, took 2.03s\n",
      "Epoch 75, ELBO 2334.12, log_probs [-0.72, 0.83, -0.47, 0.67], elbo_vae 7780.90, took 2.05s\n",
      "Epoch 76, ELBO 2334.14, log_probs [-0.71, 0.83, -0.47, 0.67], elbo_vae 7780.94, took 2.00s\n",
      "Epoch 77, ELBO 2334.10, log_probs [-0.71, 0.82, -0.47, 0.68], elbo_vae 7780.82, took 2.02s\n",
      "Epoch 78, ELBO 2334.11, log_probs [-0.69, 0.83, -0.48, 0.66], elbo_vae 7780.84, took 2.02s\n",
      "Epoch 79, ELBO 2334.12, log_probs [-0.72, 0.83, -0.47, 0.68], elbo_vae 7780.89, took 2.03s\n"
     ]
    },
    {
     "name": "stdout",
     "output_type": "stream",
     "text": [
      "Hamming distance. x_imputed: 0.00945, x_filtered: 0.00928, x_gen_det: 0.00927, baseline: 0.01172. \n",
      "Normalized RMSE. a_imputed: 0.769, a_gen_det: 0.744\n",
      "-- TEST, ELBO 7850.65, log_probs [-0.73, 0.82, -0.48, 0.70], elbo_vae 7850.34, took 0.16s\n",
      "Negative lower_bound on the test set: -7850.649\n"
     ]
    }
   ],
   "source": [
    "with tf.Session() as sess:                                                   \n",
    "    model = KalmanVariationalAutoencoder(train_data, test_data, config, sess)\n",
    "                                                                             \n",
    "    model.build_model().build_loss().initialize_variables()                  \n",
    "    err = model.train()                                                      \n"
   ]
  },
  {
   "cell_type": "code",
   "execution_count": null,
   "metadata": {},
   "outputs": [],
   "source": []
  }
 ],
 "metadata": {
  "kernelspec": {
   "display_name": "Python 3",
   "language": "python",
   "name": "python3"
  },
  "language_info": {
   "codemirror_mode": {
    "name": "ipython",
    "version": 3
   },
   "file_extension": ".py",
   "mimetype": "text/x-python",
   "name": "python",
   "nbconvert_exporter": "python",
   "pygments_lexer": "ipython3",
   "version": "3.6.8"
  }
 },
 "nbformat": 4,
 "nbformat_minor": 2
}
